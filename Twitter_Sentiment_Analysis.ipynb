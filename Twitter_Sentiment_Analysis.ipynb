{
  "nbformat": 4,
  "nbformat_minor": 0,
  "metadata": {
    "colab": {
      "name": "Twitter Sentiment Analysis.ipynb",
      "provenance": [],
      "collapsed_sections": [],
      "authorship_tag": "ABX9TyO3P8AD+ul46FVUsGPjEbeo",
      "include_colab_link": true
    },
    "kernelspec": {
      "name": "python3",
      "display_name": "Python 3"
    },
    "language_info": {
      "name": "python"
    }
  },
  "cells": [
    {
      "cell_type": "markdown",
      "metadata": {
        "id": "view-in-github",
        "colab_type": "text"
      },
      "source": [
        "<a href=\"https://colab.research.google.com/github/annamm77/twitter_workshop/blob/main/Twitter_Sentiment_Analysis.ipynb\" target=\"_parent\"><img src=\"https://colab.research.google.com/assets/colab-badge.svg\" alt=\"Open In Colab\"/></a>"
      ]
    },
    {
      "cell_type": "markdown",
      "source": [
        "# Twitter Sentiment Analysis\n",
        "\n",
        "---\n",
        "\n"
      ],
      "metadata": {
        "id": "4O56G0X3ade2"
      }
    },
    {
      "cell_type": "code",
      "execution_count": null,
      "metadata": {
        "id": "vUnKsxCb2f4V"
      },
      "outputs": [],
      "source": [
        "# Run once to install the libraries we'll use, note tweepy should be >4.4.0\n",
        "!pip install tweepy --upgrade\n",
        "import tweepy\n",
        "import getpass\n",
        "\n",
        "import pandas as pd\n",
        "import re\n",
        "\n",
        "from textblob import TextBlob\n",
        "\n",
        "from wordcloud import WordCloud\n",
        "import matplotlib.pyplot as plt"
      ]
    },
    {
      "cell_type": "markdown",
      "source": [
        "## Setting Up Tweepy Client\n",
        "\n",
        "To run Tweepy on your own, you'll need to do the following:\n",
        "* [Apply](https://developer.twitter.com/en/apply-for-access) for a Twitter Developer Account\n",
        "* Generate a bearer token and save it\n",
        "  * A new token can be generated from the [Dashboard page](https://developer.twitter.com/en/portal/dashboard), click on the key icon next to your project app\n",
        "\n",
        "If you do not have access to a Twitter Developer Account, there will be a prefetched data set you can use to proceed."
      ],
      "metadata": {
        "id": "bI9evhDutuen"
      }
    },
    {
      "cell_type": "code",
      "source": [
        "# Run this cell to set up Tweepy Client\n",
        "bearer_token = getpass.getpass()\n",
        "client = tweepy.Client(bearer_token=bearer_token)"
      ],
      "metadata": {
        "id": "7lvE2LBKj8Ob"
      },
      "execution_count": null,
      "outputs": []
    },
    {
      "cell_type": "markdown",
      "source": [
        "## Fetching Tweets\n",
        "In this cell we'll fetch Tweets using our Tweepy Client using the search_recent_tweets function\n",
        "\n",
        "### Make it your own!\n",
        "* Try using a different query. [See building query documentation here](https://developer.twitter.com/en/docs/twitter-api/tweets/search/integrate/build-a-query).\n",
        "* Try using a different method with the client. Note some methods are only available through paid access. [See available methods on Tweepy Client documentation here](https://docs.tweepy.org/en/stable/client.html). \n"
      ],
      "metadata": {
        "id": "E4slMFGLtoSL"
      }
    },
    {
      "cell_type": "code",
      "source": [
        "# Run this cell to fetch Tweets or skip this cell and continue to use prefetched Tweets\n",
        "\n",
        "# Query goes here\n",
        "\n",
        "# Client fetch goes here\n"
      ],
      "metadata": {
        "id": "d7L6ZAUIhm9V"
      },
      "execution_count": null,
      "outputs": []
    },
    {
      "cell_type": "markdown",
      "source": [
        "## Process and Sanitize Tweets\n",
        "\n",
        "We have our results from the client, now we'll need to process and clean up the data before we run our analysis."
      ],
      "metadata": {
        "id": "ZM8_arxCxyQ7"
      }
    },
    {
      "cell_type": "code",
      "source": [
        "# If Tweepy client is not set up, set this to True to use prefetched Tweets \n",
        "use_prefetched_tweets = False\n",
        "\n",
        "# Create a DataFrame with a column for the raw tweets\n",
        "if not use_prefetched_tweets:\n",
        "  df = pd.DataFrame([tweet.text for tweet in tweets.data], columns=[\"raw_tweet\"])\n",
        "else:\n",
        "  prefetched_tweets = [\n",
        "                        \"Cool website: https://t.co/zAZYAnaUaa\", \n",
        "                        \"I #love #hashtags they are #everything to #me\",\n",
        "                        \"Go to my awesome Twitter timeline for more cerebral thoughts https://t.co/By2r1hZ5NT\",\n",
        "                        \"Twitter Am I doing this right? Or no?\",\n",
        "                        \"🤠🤠🤠🤠🤠 howdy 🤠🤠🤠🤠\",\n",
        "                        \"The best thing I ate today was tirokafteri and pita it was super super good!!!!!\",\n",
        "                        \"There's two plants on my desk that need serious medical and horitcultural attention\",\n",
        "                        \"How many tweets is too may tweets for demo purposes?\",\n",
        "                        \"Live coding is really exciting\",\n",
        "                        \"If this didn't work I'd be super sad\"\n",
        "                       ]\n",
        "  df = pd.DataFrame(prefetched_tweets, columns=[\"raw_tweet\"])\n",
        "\n",
        "def sanitizeTweetText(text):\n",
        "    text = re.sub(\"@[A-Za-z0-9]+\", \"\", text) # Remove @ mentions\n",
        "    text = text.replace(\"#\", \"\") # Remove hashtag sign\n",
        "    text = re.sub(r\"(?:\\@|http?\\://|https?\\://|www)\\S+\", \"\", text) # Remove http links\n",
        "    text = text.strip() # Remove any leading or trailing whitespace\n",
        "    return text    \n",
        "\n",
        "# Add a column for the sanitized tweets\n",
        "df[\"sanitized_tweet\"] = df[\"raw_tweet\"].apply(sanitizeTweetText)\n",
        "\n",
        "# Remove any blank sanitized tweets\n",
        "df = df[df.sanitized_tweet != '']\n",
        "\n",
        "df"
      ],
      "metadata": {
        "id": "ADhb5VhAtele"
      },
      "execution_count": null,
      "outputs": []
    },
    {
      "cell_type": "markdown",
      "source": [
        "## Perform Sentiment Analysis\n",
        "In this cell we'll perform sentiment analysis using the TextBlob library sentiment.polarity function\n",
        "\n",
        "### Make it your own!\n",
        "* Try using another method in TextBlob to generate a new column. [See TextBlob documentation here.](https://textblob.readthedocs.io/en/dev/index.html)\n",
        "* Print out the total number of positive, neutral and negative Tweets "
      ],
      "metadata": {
        "id": "8A3JCWzp-ypi"
      }
    },
    {
      "cell_type": "code",
      "source": [
        "# Create a method to determine polarity of a tweet\n",
        "\n",
        "# Add a column for raw polarity score\n"
      ],
      "metadata": {
        "id": "yaoBNXd3-zBY"
      },
      "execution_count": null,
      "outputs": []
    },
    {
      "cell_type": "markdown",
      "source": [
        "## Extra Fun\n",
        "\n",
        "What else could you do with this data? \n",
        "* Generate a word cloud of the Tweets using the WordCloud library\n",
        "* Plot a graph showing the sentiment distribution \n",
        "* Get the percentage of positive Tweets from total Tweets"
      ],
      "metadata": {
        "id": "O1INv27Z-csn"
      }
    },
    {
      "cell_type": "code",
      "source": [
        "allWords = \" \".join(df[\"sanitized_tweet\"])\n",
        "\n",
        "wordCloud = WordCloud(max_font_size=50, max_words=100, background_color=\"white\").generate(allWords)\n",
        "\n",
        "plt.imshow(wordCloud, interpolation=\"bilinear\")\n",
        "plt.axis(\"off\")\n",
        "plt.show()"
      ],
      "metadata": {
        "id": "cum_t8KulfMO"
      },
      "execution_count": null,
      "outputs": []
    }
  ]
}